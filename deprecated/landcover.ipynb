{
 "cells": [
  {
   "cell_type": "code",
   "execution_count": 32,
   "metadata": {},
   "outputs": [
    {
     "name": "stdout",
     "output_type": "stream",
     "text": [
      "62\n"
     ]
    }
   ],
   "source": [
    "import json\n",
    "\n",
    "with open(\"../file.json\", \"r\") as content:\n",
    "  dictionary = json.loads(json.loads(content.read()))\n",
    "\n",
    "print(len(dictionary))"
   ]
  },
  {
   "cell_type": "code",
   "execution_count": 43,
   "metadata": {},
   "outputs": [
    {
     "name": "stdout",
     "output_type": "stream",
     "text": [
      "points_of_interest\n",
      "points_of_interest\n",
      "points_of_interest\n",
      "road-primary\n",
      "road-primary-case\n",
      "Urban Areas\n",
      "camp_landuse\n"
     ]
    }
   ],
   "source": [
    "for i in dictionary:\n",
    "    print(i['layer']['id'])"
   ]
  },
  {
   "cell_type": "code",
   "execution_count": 45,
   "metadata": {},
   "outputs": [
    {
     "data": {
      "text/plain": [
       "dict_keys(['geometry', 'type', 'properties', 'id', 'layer', 'source', 'sourceLayer', 'state'])"
      ]
     },
     "execution_count": 45,
     "metadata": {},
     "output_type": "execute_result"
    }
   ],
   "source": [
    "dictionary[0].keys()"
   ]
  },
  {
   "cell_type": "code",
   "execution_count": 31,
   "metadata": {},
   "outputs": [
    {
     "data": {
      "text/plain": [
       "2"
      ]
     },
     "execution_count": 31,
     "metadata": {},
     "output_type": "execute_result"
    }
   ],
   "source": [
    "len(dictionary[0]['geometry']['coordinates'])"
   ]
  },
  {
   "cell_type": "code",
   "execution_count": 39,
   "metadata": {},
   "outputs": [
    {
     "name": "stdout",
     "output_type": "stream",
     "text": [
      "Cafe\n",
      "Restaurant\n",
      "Cafe\n",
      "Cafe\n",
      "Fast Food\n",
      "Fast Food\n",
      "Pub\n",
      "Bar\n",
      "Bar\n",
      "Bar\n",
      "Bar\n",
      "Restaurant\n",
      "Restaurant\n",
      "Board\n",
      "Restaurant\n",
      "Guidepost\n",
      "Guidepost\n",
      "Restaurant\n",
      "unclassified\n",
      "50\n",
      "primary\n",
      "primary\n",
      "secondary\n",
      "secondary\n",
      "secondary\n",
      "secondary\n",
      "residential\n",
      "unclassified\n",
      "residential\n",
      "service\n",
      "service\n",
      "primary\n",
      "primary\n",
      "secondary\n",
      "secondary\n",
      "secondary\n",
      "secondary\n",
      "residential\n",
      "unclassified\n",
      "residential\n",
      "service\n",
      "service\n",
      "footway\n",
      "footway\n",
      "footway\n",
      "footway\n",
      "50\n",
      "40\n",
      "30\n",
      "20\n",
      "10\n",
      "50\n",
      "40\n",
      "30\n",
      "20\n",
      "10\n",
      "633\n",
      "633\n",
      "university\n",
      "residential\n",
      "university\n",
      "residential\n",
      "62\n"
     ]
    }
   ],
   "source": [
    "count = 0\n",
    "for i in dictionary:\n",
    "    if 'type' in i['properties'].keys():\n",
    "        print(i['properties']['type'])\n",
    "        count += 1\n",
    "    elif 'surface' in i['properties'].keys():\n",
    "        print(i['properties']['surface'])\n",
    "        count += 1\n",
    "    elif 'ele' in i['properties'].keys():\n",
    "        print(i['properties']['ele'])\n",
    "        count += 1\n",
    "    elif 'FID' in i['properties'].keys():\n",
    "        print(i['properties']['FID'])\n",
    "        count += 1\n",
    "    else:\n",
    "        print(i)\n",
    "print(count)"
   ]
  },
  {
   "cell_type": "code",
   "execution_count": null,
   "metadata": {},
   "outputs": [],
   "source": [
    "def get_useful_info(dictionary):\n",
    "    for feature in dictionary:\n",
    "\n",
    "        feat_name = feature['properties']['type']\n",
    "        print(feat_name + feature['properties']['type'])\n",
    "        print(feature['properties']['description'])\n",
    "        print(feature['properties']['url'])\n",
    "        print(feature['properties']['image'])\n",
    "        print(feature['properties']['lat'])\n",
    "        print(feature['properties']['lng'])\n",
    "        print(feature['properties']['type'])\n",
    "        print(feature['properties']['id'])\n",
    "        print(feature['properties']['popup'])\n",
    "        print(feature['properties']['popup_content'])\n",
    "        print(feature['properties']['popup_image'])\n",
    "        print(feature['properties']['popup_image_height'])\n",
    "        print(feature['properties']['popup_image_width'])\n",
    "        print(feature['properties']['popup_image_url'])\n",
    "        print(feature['properties']['popup_image_caption'])\n",
    "        print(feature['properties']['popup_image_credit'])\n",
    "        print(feature['properties']['popup_image_credit_url'])\n",
    "        print(feature['properties']['popup_image_credit_url_text'])\n",
    "        print(feature['properties']['popup_image_credit_url_text_2'])\n",
    "        print(feature['properties']['popup_image_credit_url_text_3'])\n",
    "        print(feature['properties']['popup_image_credit_url_text_4'])\n",
    "        print(feature['properties']['popup_image_credit_url_text_5'])\n",
    "        print(feature['properties']['popup_image_credit_url_text_6'])\n",
    "        print(feature['properties']['popup_image_credit_url_text_7'])\n",
    "        print(feature['properties']['popup_image_credit_url_text_8'])\n",
    "        print(feature['properties']['popup_image_credit_url_text_9'])\n",
    "        print(feature['properties']['popup_image_credit_url_text_10'])"
   ]
  }
 ],
 "metadata": {
  "interpreter": {
   "hash": "5ce67bb6f49e5a3a5e8242f865d588f7cfc783cd45e0a7fc178d0bf7c5dca7df"
  },
  "kernelspec": {
   "display_name": "Python 3.9.10 ('AI_general')",
   "language": "python",
   "name": "python3"
  },
  "language_info": {
   "codemirror_mode": {
    "name": "ipython",
    "version": 3
   },
   "file_extension": ".py",
   "mimetype": "text/x-python",
   "name": "python",
   "nbconvert_exporter": "python",
   "pygments_lexer": "ipython3",
   "version": "3.8.7"
  },
  "orig_nbformat": 4
 },
 "nbformat": 4,
 "nbformat_minor": 2
}
