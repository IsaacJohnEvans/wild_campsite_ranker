{
 "cells": [
  {
   "cell_type": "code",
   "execution_count": 12,
   "metadata": {},
   "outputs": [
    {
     "name": "stdout",
     "output_type": "stream",
     "text": [
      "5\n"
     ]
    }
   ],
   "source": [
    "import json\n",
    "\n",
    "with open(\"../file.json\", \"r\") as content:\n",
    "  dictionary = json.loads(json.loads(content.read()))\n",
    "\n",
    "print(len(dictionary))"
   ]
  },
  {
   "cell_type": "code",
   "execution_count": 14,
   "metadata": {},
   "outputs": [
    {
     "name": "stdout",
     "output_type": "stream",
     "text": [
      "wood\n",
      "wood\n",
      "scrub\n",
      "grass\n",
      "crop\n"
     ]
    }
   ],
   "source": [
    "for i in dictionary:\n",
    "    print(i['properties']['class'])"
   ]
  },
  {
   "cell_type": "code",
   "execution_count": 18,
   "metadata": {},
   "outputs": [
    {
     "data": {
      "text/plain": [
       "{'id': 'camp_landcover',\n",
       " 'type': 'fill',\n",
       " 'source': 'composite',\n",
       " 'source-layer': 'landcover',\n",
       " 'paint': {'fill-color': {'r': 0.050980392156862744,\n",
       "   'g': 0.788235294117647,\n",
       "   'b': 0.2980392156862745,\n",
       "   'a': 1}},\n",
       " 'layout': {}}"
      ]
     },
     "execution_count": 18,
     "metadata": {},
     "output_type": "execute_result"
    }
   ],
   "source": [
    "dictionary[3]['layer']"
   ]
  },
  {
   "cell_type": "code",
   "execution_count": 42,
   "metadata": {},
   "outputs": [
    {
     "data": {
      "text/plain": [
       "150"
      ]
     },
     "execution_count": 42,
     "metadata": {},
     "output_type": "execute_result"
    }
   ],
   "source": [
    "len(dictionary[0]['geometry']['coordinates'])"
   ]
  },
  {
   "cell_type": "code",
   "execution_count": null,
   "metadata": {},
   "outputs": [],
   "source": [
    "def get_useful_info(dictionary):\n",
    "    for feature in dictionary:\n",
    "\n",
    "        feat_name = feature['properties']['type']\n",
    "        print(feat_name + feature['properties']['type'])\n",
    "        print(feature['properties']['description'])\n",
    "        print(feature['properties']['url'])\n",
    "        print(feature['properties']['image'])\n",
    "        print(feature['properties']['lat'])\n",
    "        print(feature['properties']['lng'])\n",
    "        print(feature['properties']['type'])\n",
    "        print(feature['properties']['id'])\n",
    "        print(feature['properties']['popup'])\n",
    "        print(feature['properties']['popup_content'])\n",
    "        print(feature['properties']['popup_image'])\n",
    "        print(feature['properties']['popup_image_height'])\n",
    "        print(feature['properties']['popup_image_width'])\n",
    "        print(feature['properties']['popup_image_url'])\n",
    "        print(feature['properties']['popup_image_caption'])\n",
    "        print(feature['properties']['popup_image_credit'])\n",
    "        print(feature['properties']['popup_image_credit_url'])\n",
    "        print(feature['properties']['popup_image_credit_url_text'])\n",
    "        print(feature['properties']['popup_image_credit_url_text_2'])\n",
    "        print(feature['properties']['popup_image_credit_url_text_3'])\n",
    "        print(feature['properties']['popup_image_credit_url_text_4'])\n",
    "        print(feature['properties']['popup_image_credit_url_text_5'])\n",
    "        print(feature['properties']['popup_image_credit_url_text_6'])\n",
    "        print(feature['properties']['popup_image_credit_url_text_7'])\n",
    "        print(feature['properties']['popup_image_credit_url_text_8'])\n",
    "        print(feature['properties']['popup_image_credit_url_text_9'])\n",
    "        print(feature['properties']['popup_image_credit_url_text_10'])"
   ]
  }
 ],
 "metadata": {
  "interpreter": {
   "hash": "5ce67bb6f49e5a3a5e8242f865d588f7cfc783cd45e0a7fc178d0bf7c5dca7df"
  },
  "kernelspec": {
   "display_name": "Python 3.9.10 ('AI_general')",
   "language": "python",
   "name": "python3"
  },
  "language_info": {
   "codemirror_mode": {
    "name": "ipython",
    "version": 3
   },
   "file_extension": ".py",
   "mimetype": "text/x-python",
   "name": "python",
   "nbconvert_exporter": "python",
   "pygments_lexer": "ipython3",
   "version": "3.8.7"
  },
  "orig_nbformat": 4
 },
 "nbformat": 4,
 "nbformat_minor": 2
}
