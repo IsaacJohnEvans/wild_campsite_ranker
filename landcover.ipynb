{
 "cells": [
  {
   "cell_type": "code",
   "execution_count": 165,
   "metadata": {},
   "outputs": [],
   "source": [
    "import re, math\n",
    "from flask import json\n",
    "import numpy as np\n",
    "# from pathfinding import construct_lng_lat_matrix, get_min_path\n",
    "import mercantile\n",
    "from elevation import getElevationMatrix, rasterToImage, getRasterRGB\n",
    "\n",
    "MAPBOX_TOKEN = \"pk.eyJ1IjoiY3Jpc3BpYW5tIiwiYSI6ImNsMG1oazJhejE0YzAzZHVvd2Z1Zjlhb2YifQ.cv0zlPYY6WnoKM9YLD1lMQ\""
   ]
  },
  {
   "cell_type": "code",
   "execution_count": 181,
   "metadata": {},
   "outputs": [],
   "source": [
    "def get_tile(lat, lng, zoom_level):\n",
    "    tile_coords = mercantile.tile(lng=lng, lat=lat, zoom=zoom_level)\n",
    "    elevation_mat = getElevationMatrix(\n",
    "        MAPBOX_TOKEN, tile_coords.z, tile_coords.x, tile_coords.y\n",
    "    )\n",
    "    padded_mat = np.pad(\n",
    "        elevation_mat, [(1, 1), (1, 1)], mode=\"constant\", constant_values=np.Inf\n",
    "    )\n",
    "    # print(padded_mat, flush=True)\n",
    "    # Get latitude and longitude at upper-left of tile\n",
    "    upper_left = mercantile.ul(tile_coords)\n",
    "    djikstra(\n",
    "        padded_mat,\n",
    "        startNode=(1, 1),\n",
    "        targetNode=(248, 250),\n",
    "        zoomlevel=zoom_level,\n",
    "        latitude=lat,\n",
    "        elevation_multiplier=10,\n",
    "        show_plot=True,\n",
    "    )\n",
    "\n",
    "\n",
    "def construct_lng_lat_matrix(ul, zoomlevel):\n",
    "\n",
    "    matrix = np.zeros([256, 256], list)\n",
    "\n",
    "    for i in range(256):\n",
    "        for j in range(256):\n",
    "            lng_lat = coord_to_lng_lat(ul, coord=(i, j), zoomlevel=zoomlevel)\n",
    "            matrix[i, j] = [lng_lat[0], lng_lat[1]]\n",
    "\n",
    "    return matrix\n",
    "\n",
    "\n",
    "def coord_to_lng_lat(ul, coord, zoomlevel):\n",
    "    \"\"\"Converts x,y matrix coordinate into longitude and latitude coordinates\"\"\"\n",
    "    # Unpack upper-left of tile longitude and latitude\n",
    "    ul_lat = ul[1]\n",
    "    ul_lng = ul[0]\n",
    "\n",
    "    # Calculate distance between each pixel\n",
    "    latitude_radians = ul_lat * math.pi / 180\n",
    "    resolution = abs(156543.03 * np.cos(latitude_radians) / (2**zoomlevel))\n",
    "\n",
    "    # Radius of Earth in metres\n",
    "    R = 6378137\n",
    "\n",
    "    # Change in distance (delta pixels * resolution in metres)\n",
    "    dn = coord[0] * resolution\n",
    "    de = coord[1] * resolution\n",
    "\n",
    "    dLat = dn / R\n",
    "    dLon = de / (R * math.cos(math.pi * ul_lat / 180))\n",
    "\n",
    "    latO = ul_lat + dLat * 180 / math.pi\n",
    "    lonO = ul_lng + dLon * 180 / math.pi\n",
    "\n",
    "    return [lonO, latO]\n",
    "\n",
    "\n",
    "def lng_lat_to_coord(lng_lat_matrix, lng_lat):\n",
    "\n",
    "    distances_matrix = np.zeros(\n",
    "        [lng_lat_matrix.shape[0], lng_lat_matrix.shape[1]], dtype=float\n",
    "    )\n",
    "    for i in range(distances_matrix.shape[0]):\n",
    "        for j in range(distances_matrix.shape[1]):\n",
    "            distance = abs(sum(np.array(lng_lat_matrix[i, j]) - np.array(lng_lat)))\n",
    "            distances_matrix[i, j] = distance\n",
    "\n",
    "    min_idx = np.unravel_index(distances_matrix.argmin(), distances_matrix.shape)\n",
    "\n",
    "    return min_idx\n",
    "\n",
    "\n",
    "def djikstra(matrix, startNode, targetNode, resolution, elevation_multiplier=4):\n",
    "\n",
    "    neighbourDiffs = [[0, 1], [0, -1], [-1, 0], [1, 0]]\n",
    "    visitedNodes = {\n",
    "        startNode: 0\n",
    "    }  # Dictionary of nodes and their shortest discovered cumulative distance\n",
    "    frontierNodes = dict()\n",
    "    parentDict = dict()\n",
    "\n",
    "    currentNode = startNode\n",
    "    currentDist = 0\n",
    "    # print(\"startNode:\", startNode)\n",
    "    # print(\"targetNode:\", targetNode)\n",
    "    while True:\n",
    "\n",
    "        neighbourNodes = set(\n",
    "            tuple(np.array(currentNode) + np.array(diff)) for diff in neighbourDiffs\n",
    "        )\n",
    "\n",
    "        for node in neighbourNodes:\n",
    "            if node not in visitedNodes.keys():\n",
    "                # Generate weighting for traversing to neighbouring node\n",
    "                neighbourDist = (\n",
    "                    currentDist\n",
    "                    + resolution\n",
    "                    + elevation_multiplier * abs((matrix[node] - matrix[currentNode]))\n",
    "                )\n",
    "\n",
    "                # Update frontier if newly-discovered distance is smaller than existing frontier distance\n",
    "                try:\n",
    "                    if neighbourDist < frontierNodes[node]:\n",
    "                        frontierNodes[node] = neighbourDist\n",
    "                        # Update parent node for shortest path\n",
    "                        parentDict[node] = currentNode\n",
    "                except KeyError:\n",
    "                    frontierNodes[node] = neighbourDist\n",
    "                    parentDict[node] = currentNode\n",
    "\n",
    "        # Search frontier nodes for smallest distance\n",
    "        smallestFrontierNode = min(frontierNodes, key=frontierNodes.get)\n",
    "\n",
    "        # Change current node to smallest frontier node\n",
    "        currentNode = smallestFrontierNode\n",
    "        currentDist = frontierNodes[currentNode]\n",
    "\n",
    "        # Remove new current node from frontier\n",
    "        frontierNodes.pop(currentNode, None)\n",
    "\n",
    "        # Add new current node to visited nodes\n",
    "        visitedNodes[currentNode] = currentDist\n",
    "        if targetNode in visitedNodes.keys():\n",
    "            # print(\"DONE\")\n",
    "            break\n",
    "\n",
    "    # print(len(visitedNodes))\n",
    "\n",
    "    # Backtracking to get path of nodes\n",
    "    currentNode = targetNode\n",
    "    nodePath = [currentNode]\n",
    "    while currentNode != startNode:\n",
    "        currentNode = parentDict[currentNode]\n",
    "        nodePath.append(currentNode)\n",
    "    # print(nodePath)\n",
    "\n",
    "    return nodePath"
   ]
  },
  {
   "cell_type": "code",
   "execution_count": 167,
   "metadata": {},
   "outputs": [],
   "source": [
    "start_click = '{\"x\":1216,\"y\":525}<br>{\"lng\":-2.6192322226170024,\"lat\":51.44931147369441}'\n",
    "end_click = '{\"x\":1216,\"y\":525}<br>{\"lng\":-2.614962342949676,\"lat\":51.44890115167271}'\n",
    "\n",
    "location1 = json.loads(re.findall(\"\\{.*?\\}\", start_click)[1])\n",
    "location2 = json.loads(re.findall(\"\\{.*?\\}\", end_click)[1])\n",
    "\n",
    "zoom_level = 14"
   ]
  },
  {
   "cell_type": "code",
   "execution_count": 169,
   "metadata": {},
   "outputs": [],
   "source": [
    "def convertToJson(minPath):\n",
    "    geojson = {\n",
    "        \"type\": \"FeatureCollection\",\n",
    "        \"features\": [\n",
    "            {\n",
    "                \"type\": \"Feature\",\n",
    "                \"properties\": {},\n",
    "                \"geometry\": {\"type\": \"LineString\", \"coordinates\": minPath},\n",
    "            }\n",
    "        ],\n",
    "    }\n",
    "    output = open(\"crispian_Path.geojson\", \"w\")\n",
    "    json.dump(geojson, output)\n",
    "    return geojson"
   ]
  },
  {
   "cell_type": "code",
   "execution_count": 170,
   "metadata": {},
   "outputs": [],
   "source": [
    "# GOOD\n",
    "start_lng_lat = [location1[\"lng\"], location1[\"lat\"]]\n",
    "end_lng_lat = [location2[\"lng\"], location2[\"lat\"]]\n",
    "\n",
    "# route_to_place = get_min_path(start_lng_lat, end_lng_lat, 14)\n",
    "# minpath = convertToJson(route_to_place)\n",
    "\n",
    "# minpath"
   ]
  },
  {
   "cell_type": "code",
   "execution_count": 38,
   "metadata": {},
   "outputs": [],
   "source": [
    "# # BAD\n",
    "# startPoint = [location1[\"lat\"], location1[\"lng\"]]\n",
    "# endPoint = [location2[\"lat\"], location2[\"lng\"]]\n",
    "\n",
    "# route_to_place = get_min_path(startPoint, endPoint, 14)\n",
    "# minpath = convertToJson(route_to_place)\n",
    "\n",
    "\n",
    "# minpath[\"features\"][0][\"geometry\"][\"coordinates\"][:] = map(\n",
    "#     lambda l: list(reversed(l)),\n",
    "#     minpath[\"features\"][0][\"geometry\"][\"coordinates\"],\n",
    "# )\n",
    "# # minpath"
   ]
  },
  {
   "cell_type": "code",
   "execution_count": 82,
   "metadata": {},
   "outputs": [
    {
     "data": {
      "text/plain": [
       "[-2.6192322226170024, 51.44931147369441]"
      ]
     },
     "execution_count": 82,
     "metadata": {},
     "output_type": "execute_result"
    }
   ],
   "source": [
    "start_lng_lat"
   ]
  },
  {
   "cell_type": "code",
   "execution_count": 65,
   "metadata": {},
   "outputs": [
    {
     "data": {
      "text/plain": [
       "[-2.614962342949676, 51.44890115167271]"
      ]
     },
     "execution_count": 65,
     "metadata": {},
     "output_type": "execute_result"
    }
   ],
   "source": [
    "end_lng_lat"
   ]
  },
  {
   "cell_type": "code",
   "execution_count": 171,
   "metadata": {},
   "outputs": [
    {
     "data": {
      "text/plain": [
       "0.004269879667326393"
      ]
     },
     "execution_count": 171,
     "metadata": {},
     "output_type": "execute_result"
    }
   ],
   "source": [
    "# Get direction of end location relative to start\n",
    "x_delta = end_lng_lat[0] - start_lng_lat[0]\n",
    "x_delta"
   ]
  },
  {
   "cell_type": "code",
   "execution_count": 172,
   "metadata": {},
   "outputs": [
    {
     "data": {
      "text/plain": [
       "-0.00041032202170043774"
      ]
     },
     "execution_count": 172,
     "metadata": {},
     "output_type": "execute_result"
    }
   ],
   "source": [
    "y_delta = end_lng_lat[1] - start_lng_lat[1]\n",
    "y_delta"
   ]
  },
  {
   "cell_type": "code",
   "execution_count": 173,
   "metadata": {},
   "outputs": [
    {
     "name": "stdout",
     "output_type": "stream",
     "text": [
      "[-2.6192322226170024, 51.44931147369441]\n",
      "(1, 1)\n"
     ]
    }
   ],
   "source": [
    "if (x_delta < 0) and (y_delta > 0):\n",
    "    tile_lng_lat = end_lng_lat\n",
    "    startNode = (256, 256)\n",
    "\n",
    "elif (x_delta < 0) and (y_delta < 0):\n",
    "    tile_lng_lat = (end_lng_lat[0], start_lng_lat[1])\n",
    "    startNode = (1, 256)\n",
    "\n",
    "elif (x_delta > 0) and (y_delta < 0):\n",
    "    tile_lng_lat = start_lng_lat\n",
    "    startNode = (1, 1)\n",
    "\n",
    "elif (x_delta > 0) and (y_delta > 0):\n",
    "    tile_lng_lat = (start_lng_lat[0], end_lng_lat[1])\n",
    "    startNode = (256, 1)\n",
    "\n",
    "print(tile_lng_lat)\n",
    "print(startNode)"
   ]
  },
  {
   "cell_type": "code",
   "execution_count": 211,
   "metadata": {},
   "outputs": [
    {
     "name": "stdout",
     "output_type": "stream",
     "text": [
      "tile_coords: Tile(x=8072, y=5452, z=14)\n",
      "\n",
      "upper_left:  LngLat(lng=-2.63671875, lat=51.45400691005982)\n"
     ]
    }
   ],
   "source": [
    "# Get mercantile tile x,y,z from lng, lat, zoom\n",
    "tile_coords = mercantile.tile(lng=tile_lng_lat[0], lat=tile_lng_lat[1], zoom=14)\n",
    "print('tile_coords:', tile_coords)\n",
    "upper_left = mercantile.ul(tile_coords)\n",
    "print('\\nupper_left: ', upper_left)"
   ]
  },
  {
   "cell_type": "code",
   "execution_count": 231,
   "metadata": {},
   "outputs": [
    {
     "data": {
      "text/plain": [
       "51.45400691005982"
      ]
     },
     "execution_count": 231,
     "metadata": {},
     "output_type": "execute_result"
    }
   ],
   "source": [
    "upper_left.lat"
   ]
  },
  {
   "cell_type": "code",
   "execution_count": 222,
   "metadata": {},
   "outputs": [
    {
     "data": {
      "text/plain": [
       "array([[list([-2.63671875, 51.45400691005982]),\n",
       "        list([-2.6366329193136773, 51.45400691005982]),\n",
       "        list([-2.636547088627354, 51.45400691005982]), ...,\n",
       "        list([-2.615003586360315, 51.45400691005982]),\n",
       "        list([-2.6149177556739924, 51.45400691005982]),\n",
       "        list([-2.6148319249876697, 51.45400691005982])],\n",
       "       [list([-2.63671875, 51.45406039482198]),\n",
       "        list([-2.6366329193136773, 51.45406039482198]),\n",
       "        list([-2.636547088627354, 51.45406039482198]), ...,\n",
       "        list([-2.615003586360315, 51.45406039482198]),\n",
       "        list([-2.6149177556739924, 51.45406039482198]),\n",
       "        list([-2.6148319249876697, 51.45406039482198])],\n",
       "       [list([-2.63671875, 51.45411387958414]),\n",
       "        list([-2.6366329193136773, 51.45411387958414]),\n",
       "        list([-2.636547088627354, 51.45411387958414]), ...,\n",
       "        list([-2.615003586360315, 51.45411387958414]),\n",
       "        list([-2.6149177556739924, 51.45411387958414]),\n",
       "        list([-2.6148319249876697, 51.45411387958414])],\n",
       "       ...,\n",
       "       [list([-2.63671875, 51.467538554886424]),\n",
       "        list([-2.6366329193136773, 51.467538554886424]),\n",
       "        list([-2.636547088627354, 51.467538554886424]), ...,\n",
       "        list([-2.615003586360315, 51.467538554886424]),\n",
       "        list([-2.6149177556739924, 51.467538554886424]),\n",
       "        list([-2.6148319249876697, 51.467538554886424])],\n",
       "       [list([-2.63671875, 51.467592039648586]),\n",
       "        list([-2.6366329193136773, 51.467592039648586]),\n",
       "        list([-2.636547088627354, 51.467592039648586]), ...,\n",
       "        list([-2.615003586360315, 51.467592039648586]),\n",
       "        list([-2.6149177556739924, 51.467592039648586]),\n",
       "        list([-2.6148319249876697, 51.467592039648586])],\n",
       "       [list([-2.63671875, 51.46764552441074]),\n",
       "        list([-2.6366329193136773, 51.46764552441074]),\n",
       "        list([-2.636547088627354, 51.46764552441074]), ...,\n",
       "        list([-2.615003586360315, 51.46764552441074]),\n",
       "        list([-2.6149177556739924, 51.46764552441074]),\n",
       "        list([-2.6148319249876697, 51.46764552441074])]], dtype=object)"
      ]
     },
     "execution_count": 222,
     "metadata": {},
     "output_type": "execute_result"
    }
   ],
   "source": [
    "lng_lat_matrix = construct_lng_lat_matrix(upper_left, zoomlevel=14)\n",
    "lng_lat_matrix"
   ]
  },
  {
   "cell_type": "code",
   "execution_count": 223,
   "metadata": {},
   "outputs": [
    {
     "data": {
      "text/plain": [
       "(138, 108)"
      ]
     },
     "execution_count": 223,
     "metadata": {},
     "output_type": "execute_result"
    }
   ],
   "source": [
    "targetNode = lng_lat_to_coord(lng_lat_matrix, lng_lat=list(end_lng_lat))\n",
    "targetNode\n",
    "#print(\"startNode\", startNode)\n",
    "#print(\"targetNode\", targetNode)\n",
    "# Get elevation matrix"
   ]
  },
  {
   "cell_type": "code",
   "execution_count": 224,
   "metadata": {},
   "outputs": [
    {
     "data": {
      "text/plain": [
       "array([[109.1, 109.2, 109.3, ...,  76.4,  76.5,  76.6],\n",
       "       [109.4, 109.5, 109.6, ...,  76.6,  76.7,  76.8],\n",
       "       [109.8, 109.9, 110. , ...,  76.7,  76.8,  77. ],\n",
       "       ...,\n",
       "       [ 17.7,  17.8,  17.9, ...,   9.3,   9.4,   9.5],\n",
       "       [ 17.3,  17.5,  17.6, ...,   9.2,   9.2,   9.3],\n",
       "       [ 17.1,  17.3,  17.4, ...,   9. ,   9.1,   9.1]])"
      ]
     },
     "execution_count": 224,
     "metadata": {},
     "output_type": "execute_result"
    }
   ],
   "source": [
    "elevation_mat = getElevationMatrix(MAPBOX_TOKEN, tile_coords.z, tile_coords.x, tile_coords.y)\n",
    "elevation_mat"
   ]
  },
  {
   "cell_type": "code",
   "execution_count": 225,
   "metadata": {},
   "outputs": [
    {
     "data": {
      "text/plain": [
       "array([[  inf,   inf,   inf, ...,   inf,   inf,   inf],\n",
       "       [  inf, 109.1, 109.2, ...,  76.5,  76.6,   inf],\n",
       "       [  inf, 109.4, 109.5, ...,  76.7,  76.8,   inf],\n",
       "       ...,\n",
       "       [  inf,  17.3,  17.5, ...,   9.2,   9.3,   inf],\n",
       "       [  inf,  17.1,  17.3, ...,   9.1,   9.1,   inf],\n",
       "       [  inf,   inf,   inf, ...,   inf,   inf,   inf]])"
      ]
     },
     "execution_count": 225,
     "metadata": {},
     "output_type": "execute_result"
    }
   ],
   "source": [
    "# Pad matrix with infinities to represent boundaries\n",
    "padded_mat = np.pad(elevation_mat, [(1, 1), (1, 1)], mode='constant', constant_values=np.Inf)\n",
    "padded_mat"
   ]
  },
  {
   "cell_type": "code",
   "execution_count": 226,
   "metadata": {},
   "outputs": [
    {
     "name": "stdout",
     "output_type": "stream",
     "text": [
      "latitude_radians 0.8979598831000634\n",
      "resolution 5.954508867186662\n"
     ]
    }
   ],
   "source": [
    "# resolution = 156543.03 meters/pixel * cos(latitude) / (2 ^ zoomlevel)\n",
    "latitude_radians = tile_lng_lat[1] * math.pi / 180\n",
    "resolution = abs(156543.03 * np.cos(latitude_radians) / (2 ** 14))\n",
    "\n",
    "print(\"latitude_radians\", latitude_radians)\n",
    "print(\"resolution\", resolution)"
   ]
  },
  {
   "cell_type": "code",
   "execution_count": 227,
   "metadata": {},
   "outputs": [],
   "source": [
    "# Generate the shortest path as a sequence of lng, lat tuples\n",
    "node_path = djikstra(padded_mat, startNode=startNode, targetNode=(targetNode[0]+1, targetNode[1]+1),\n",
    "                        resolution=resolution, elevation_multiplier=5)\n",
    "# node_path"
   ]
  },
  {
   "cell_type": "code",
   "execution_count": 228,
   "metadata": {},
   "outputs": [
    {
     "data": {
      "text/plain": [
       "LngLat(lng=-2.63671875, lat=51.45400691005982)"
      ]
     },
     "execution_count": 228,
     "metadata": {},
     "output_type": "execute_result"
    }
   ],
   "source": [
    "# Get lng and lat of upper-left of tile\n",
    "upper_left = mercantile.ul(tile_coords)\n",
    "upper_left"
   ]
  },
  {
   "cell_type": "code",
   "execution_count": 229,
   "metadata": {},
   "outputs": [],
   "source": [
    "# Gets path as series of longitude and latitude coordinates\n",
    "lnglatPath = [coord_to_lng_lat(upper_left, coord, 14) for coord in node_path]\n",
    "lnglatPath\n",
    "# if show_img:\n",
    "#     plt.imshow(elevation_mat, interpolation='nearest')\n",
    "#     xs = [x[0] for x in node_path]\n",
    "#     ys = [x[1] for x in node_path]\n",
    "#     plt.plot(xs, ys, 'r-')\n",
    "#     plt.show()\n",
    "\n",
    "minpath = convertToJson(lnglatPath)"
   ]
  },
  {
   "cell_type": "code",
   "execution_count": null,
   "metadata": {},
   "outputs": [],
   "source": []
  },
  {
   "cell_type": "code",
   "execution_count": null,
   "metadata": {},
   "outputs": [],
   "source": []
  },
  {
   "cell_type": "code",
   "execution_count": 207,
   "metadata": {},
   "outputs": [
    {
     "name": "stdout",
     "output_type": "stream",
     "text": [
      "ul_lat 51.44931147369441\n",
      "ul_lng -2.6192322226170024\n",
      "latitude_radians 0.8979598831000634\n",
      "resolution 5.954508867186662\n"
     ]
    }
   ],
   "source": [
    "# def coord_to_lng_lat(ul, coord, zoomlevel):\n",
    "\n",
    "ul = tile_lng_lat\n",
    "coord = [0, 1]\n",
    "\n",
    "\"\"\"Converts x,y matrix coordinate into longitude and latitude coordinates\"\"\"\n",
    "# Unpack upper-left of tile longitude and latitude\n",
    "ul_lat = ul[1]\n",
    "print(\"ul_lat\", ul_lat)\n",
    "ul_lng = ul[0]\n",
    "print(\"ul_lng\", ul_lng)\n",
    "# Calculate distance between each pixel\n",
    "latitude_radians = ul_lat * math.pi / 180\n",
    "print(\"latitude_radians\", latitude_radians)\n",
    "resolution = abs(156543.03 * np.cos(latitude_radians) / (2**14))\n",
    "print(\"resolution\", resolution)\n",
    "\n",
    "# Radius of Earth in metres\n",
    "R = 6378137\n",
    "\n",
    "# Change in distance (delta pixels * resolution in metres)\n"
   ]
  },
  {
   "cell_type": "code",
   "execution_count": 208,
   "metadata": {},
   "outputs": [
    {
     "name": "stdout",
     "output_type": "stream",
     "text": [
      "dn:  0.0\n",
      "de:  5.954508867186662\n",
      "dLat:  0.0\n",
      "dLon:  1.4980280755804458e-06\n"
     ]
    }
   ],
   "source": [
    "dn = coord[0] * resolution\n",
    "print(\"dn: \", dn)\n",
    "de = coord[1] * resolution\n",
    "print(\"de: \", de)\n",
    "\n",
    "dLat = dn / R\n",
    "print(\"dLat: \", dLat)\n",
    "dLon = de / (R * math.cos(math.pi * ul_lat / 180))\n",
    "print(\"dLon: \", dLon)\n"
   ]
  },
  {
   "cell_type": "code",
   "execution_count": 209,
   "metadata": {},
   "outputs": [
    {
     "data": {
      "text/plain": [
       "51.44931147369441"
      ]
     },
     "execution_count": 209,
     "metadata": {},
     "output_type": "execute_result"
    }
   ],
   "source": [
    "latO = ul_lat + dLat * 180 / math.pi\n",
    "latO"
   ]
  },
  {
   "cell_type": "code",
   "execution_count": 210,
   "metadata": {},
   "outputs": [
    {
     "data": {
      "text/plain": [
       "-2.6191463919306797"
      ]
     },
     "execution_count": 210,
     "metadata": {},
     "output_type": "execute_result"
    }
   ],
   "source": [
    "lonO = ul_lng + dLon * 180 / math.pi\n",
    "lonO"
   ]
  },
  {
   "cell_type": "code",
   "execution_count": null,
   "metadata": {},
   "outputs": [],
   "source": []
  }
 ],
 "metadata": {
  "interpreter": {
   "hash": "5ce67bb6f49e5a3a5e8242f865d588f7cfc783cd45e0a7fc178d0bf7c5dca7df"
  },
  "kernelspec": {
   "display_name": "Python 3.9.10 ('AI_general')",
   "language": "python",
   "name": "python3"
  },
  "language_info": {
   "codemirror_mode": {
    "name": "ipython",
    "version": 3
   },
   "file_extension": ".py",
   "mimetype": "text/x-python",
   "name": "python",
   "nbconvert_exporter": "python",
   "pygments_lexer": "ipython3",
   "version": "3.10.4"
  },
  "orig_nbformat": 4
 },
 "nbformat": 4,
 "nbformat_minor": 2
}
